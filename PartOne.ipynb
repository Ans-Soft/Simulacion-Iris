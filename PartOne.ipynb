{
 "cells": [
  {
   "cell_type": "code",
   "execution_count": 2,
   "metadata": {},
   "outputs": [],
   "source": [
    "import unittest\n",
    "import pandas as pd\n",
    "import numpy as np\n",
    "import torch\n",
    "import torchvision\n"
   ]
  },
  {
   "cell_type": "code",
   "execution_count": 3,
   "metadata": {},
   "outputs": [
    {
     "name": "stdout",
     "output_type": "stream",
     "text": [
      "Tensor de ceros:\n",
      " tensor([[0., 0., 0.],\n",
      "        [0., 0., 0.]])\n"
     ]
    }
   ],
   "source": [
    "# Ejemplos de operaciones básicas con el tensor\n",
    "\n",
    "# Ejercicio 1: Crear un tensor de 2x3 lleno de ceros\n",
    "tensor_zeros = torch.zeros((2, 3))\n",
    "print(\"Tensor de ceros:\\n\", tensor_zeros)"
   ]
  },
  {
   "cell_type": "code",
   "execution_count": 4,
   "metadata": {},
   "outputs": [
    {
     "name": "stdout",
     "output_type": "stream",
     "text": [
      "Tensor de unos:\n",
      " tensor([[1., 1., 1.],\n",
      "        [1., 1., 1.],\n",
      "        [1., 1., 1.]])\n"
     ]
    }
   ],
   "source": [
    "# Ejercicio 2: Crear un tensor de 3x3 lleno de unos\n",
    "tensor_ones = torch.ones((3, 3))\n",
    "print(\"Tensor de unos:\\n\", tensor_ones)"
   ]
  },
  {
   "cell_type": "code",
   "execution_count": 5,
   "metadata": {},
   "outputs": [
    {
     "name": "stdout",
     "output_type": "stream",
     "text": [
      "Tensor aleatorio:\n",
      " tensor([[0.0429, 0.9303, 0.3363],\n",
      "        [0.5055, 0.3684, 0.4866],\n",
      "        [0.6468, 0.6559, 0.2373]])\n"
     ]
    }
   ],
   "source": [
    "# Ejercicio 3: Crear un tensor aleatorio de 3x3\n",
    "tensor_random = torch.rand((3, 3))\n",
    "print(\"Tensor aleatorio:\\n\", tensor_random)\n"
   ]
  },
  {
   "cell_type": "code",
   "execution_count": 7,
   "metadata": {},
   "outputs": [
    {
     "name": "stdout",
     "output_type": "stream",
     "text": [
      "Suma de tensores:\n",
      " tensor([5, 7, 9])\n",
      "Producto de tensores:\n",
      " tensor([ 4, 10, 18])\n"
     ]
    }
   ],
   "source": [
    "# Ejercicio 5: Operaciones con tensores\n",
    "tensor_a = torch.tensor([1, 2, 3])\n",
    "tensor_b = torch.tensor([4, 5, 6])\n",
    "tensor_sum = tensor_a + tensor_b\n",
    "print(\"Suma de tensores:\\n\", tensor_sum)\n",
    "\n",
    "tensor_product = tensor_a * tensor_b\n",
    "print(\"Producto de tensores:\\n\", tensor_product)\n"
   ]
  },
  {
   "cell_type": "code",
   "execution_count": 8,
   "metadata": {},
   "outputs": [
    {
     "name": "stdout",
     "output_type": "stream",
     "text": [
      "Media de tensor aleatorio:\n",
      " tensor(0.4678)\n"
     ]
    }
   ],
   "source": [
    "# Ejercicio 6: Más operaciones con tensores\n",
    "tensor_mean = torch.mean(tensor_random)\n",
    "print(\"Media de tensor aleatorio:\\n\", tensor_mean)"
   ]
  },
  {
   "cell_type": "code",
   "execution_count": 9,
   "metadata": {},
   "outputs": [
    {
     "name": "stdout",
     "output_type": "stream",
     "text": [
      "Desviación estándar de tensor aleatorio:\n",
      " tensor(0.2608)\n"
     ]
    }
   ],
   "source": [
    "tensor_std = torch.std(tensor_random)\n",
    "print(\"Desviación estándar de tensor aleatorio:\\n\", tensor_std)"
   ]
  },
  {
   "cell_type": "code",
   "execution_count": 11,
   "metadata": {},
   "outputs": [
    {
     "name": "stdout",
     "output_type": "stream",
     "text": [
      "Tensor de ceros reestructurado:\n",
      " tensor([[0., 0.],\n",
      "        [0., 0.],\n",
      "        [0., 0.]])\n"
     ]
    }
   ],
   "source": [
    "# Ejercicio 7: Reestructuración de un tensor\n",
    "tensor_reshape = tensor_zeros.view(3, 2)\n",
    "print(\"Tensor de ceros reestructurado:\\n\", tensor_reshape)"
   ]
  }
 ],
 "metadata": {
  "kernelspec": {
   "display_name": "Python 3",
   "language": "python",
   "name": "python3"
  },
  "language_info": {
   "codemirror_mode": {
    "name": "ipython",
    "version": 3
   },
   "file_extension": ".py",
   "mimetype": "text/x-python",
   "name": "python",
   "nbconvert_exporter": "python",
   "pygments_lexer": "ipython3",
   "version": "3.12.3"
  }
 },
 "nbformat": 4,
 "nbformat_minor": 2
}
